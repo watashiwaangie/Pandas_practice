{
 "cells": [
  {
   "cell_type": "markdown",
   "metadata": {},
   "source": [
    "<!--Información del curso-->\n",
    "<img align=\"left\" style=\"padding-right:10px;\" src=\"figuras/logo_ciencia_datos.png\">"
   ]
  },
  {
   "cell_type": "markdown",
   "metadata": {},
   "source": [
    "# Librerías\n",
    "\n",
    "Cargando las bibliotecas que necesitamos \n"
   ]
  },
  {
   "cell_type": "code",
   "execution_count": 1,
   "metadata": {},
   "outputs": [],
   "source": [
    "import pandas as pd\n",
    "import numpy as np\n",
    "import matplotlib.pyplot as plt"
   ]
  },
  {
   "cell_type": "markdown",
   "metadata": {},
   "source": [
    "## Ejercicio 1:  Datos de la estación meteorologica de Progreso, Yucatán\n",
    "\n",
    "Fuente:  https://smn.conagua.gob.mx/es/observando-el-tiempo/estaciones-meteorologicas-automaticas-ema-s"
   ]
  },
  {
   "cell_type": "code",
   "execution_count": 2,
   "metadata": {},
   "outputs": [
    {
     "data": {
      "text/html": [
       "<div>\n",
       "<style scoped>\n",
       "    .dataframe tbody tr th:only-of-type {\n",
       "        vertical-align: middle;\n",
       "    }\n",
       "\n",
       "    .dataframe tbody tr th {\n",
       "        vertical-align: top;\n",
       "    }\n",
       "\n",
       "    .dataframe thead th {\n",
       "        text-align: right;\n",
       "    }\n",
       "</style>\n",
       "<table border=\"1\" class=\"dataframe\">\n",
       "  <thead>\n",
       "    <tr style=\"text-align: right;\">\n",
       "      <th></th>\n",
       "      <th>FechaLocal</th>\n",
       "      <th>FechaUTC</th>\n",
       "      <th>TemperaturaAire(C)</th>\n",
       "      <th>Precipitacion(mm)</th>\n",
       "      <th>HumedadRelativa(%)</th>\n",
       "      <th>PresionAtmosferica(hpa)</th>\n",
       "      <th>RadiacionSolar(W/m2)</th>\n",
       "      <th>DireccionViento(grados)</th>\n",
       "      <th>RapidezViento(km/h)</th>\n",
       "      <th>DireccionRafaga(grados)</th>\n",
       "      <th>RapidezRafaga(km/h)</th>\n",
       "    </tr>\n",
       "  </thead>\n",
       "  <tbody>\n",
       "    <tr>\n",
       "      <th>0</th>\n",
       "      <td>19/11/2020 15:20</td>\n",
       "      <td>19/11/2020 21:20</td>\n",
       "      <td>28</td>\n",
       "      <td>0</td>\n",
       "      <td>72</td>\n",
       "      <td>1017.0</td>\n",
       "      <td>226.0</td>\n",
       "      <td>59.0</td>\n",
       "      <td>28.0</td>\n",
       "      <td>115.0</td>\n",
       "      <td>46.0</td>\n",
       "    </tr>\n",
       "    <tr>\n",
       "      <th>1</th>\n",
       "      <td>19/11/2020 15:10</td>\n",
       "      <td>19/11/2020 21:10</td>\n",
       "      <td>28</td>\n",
       "      <td>0</td>\n",
       "      <td>73</td>\n",
       "      <td>1017.0</td>\n",
       "      <td>445.0</td>\n",
       "      <td>59.0</td>\n",
       "      <td>27.0</td>\n",
       "      <td>103.0</td>\n",
       "      <td>43.0</td>\n",
       "    </tr>\n",
       "    <tr>\n",
       "      <th>2</th>\n",
       "      <td>19/11/2020 15:00</td>\n",
       "      <td>19/11/2020 21:00</td>\n",
       "      <td>28</td>\n",
       "      <td>0</td>\n",
       "      <td>74</td>\n",
       "      <td>1017.0</td>\n",
       "      <td>475.0</td>\n",
       "      <td>60.0</td>\n",
       "      <td>28.0</td>\n",
       "      <td>97.0</td>\n",
       "      <td>53.0</td>\n",
       "    </tr>\n",
       "    <tr>\n",
       "      <th>3</th>\n",
       "      <td>19/11/2020 14:50</td>\n",
       "      <td>19/11/2020 20:50</td>\n",
       "      <td>28</td>\n",
       "      <td>0</td>\n",
       "      <td>75</td>\n",
       "      <td>1017.0</td>\n",
       "      <td>359.0</td>\n",
       "      <td>59.0</td>\n",
       "      <td>27.0</td>\n",
       "      <td>94.0</td>\n",
       "      <td>51.0</td>\n",
       "    </tr>\n",
       "    <tr>\n",
       "      <th>4</th>\n",
       "      <td>19/11/2020 14:40</td>\n",
       "      <td>19/11/2020 20:40</td>\n",
       "      <td>28</td>\n",
       "      <td>0</td>\n",
       "      <td>74</td>\n",
       "      <td>1017.0</td>\n",
       "      <td>550.0</td>\n",
       "      <td>63.0</td>\n",
       "      <td>27.0</td>\n",
       "      <td>99.0</td>\n",
       "      <td>48.0</td>\n",
       "    </tr>\n",
       "  </tbody>\n",
       "</table>\n",
       "</div>"
      ],
      "text/plain": [
       "         FechaLocal          FechaUTC  TemperaturaAire(C)  Precipitacion(mm)  \\\n",
       "0  19/11/2020 15:20  19/11/2020 21:20                  28                  0   \n",
       "1  19/11/2020 15:10  19/11/2020 21:10                  28                  0   \n",
       "2  19/11/2020 15:00  19/11/2020 21:00                  28                  0   \n",
       "3  19/11/2020 14:50  19/11/2020 20:50                  28                  0   \n",
       "4  19/11/2020 14:40  19/11/2020 20:40                  28                  0   \n",
       "\n",
       "   HumedadRelativa(%)  PresionAtmosferica(hpa)  RadiacionSolar(W/m2)  \\\n",
       "0                  72                   1017.0                 226.0   \n",
       "1                  73                   1017.0                 445.0   \n",
       "2                  74                   1017.0                 475.0   \n",
       "3                  75                   1017.0                 359.0   \n",
       "4                  74                   1017.0                 550.0   \n",
       "\n",
       "   DireccionViento(grados)  RapidezViento(km/h)  DireccionRafaga(grados)  \\\n",
       "0                     59.0                 28.0                    115.0   \n",
       "1                     59.0                 27.0                    103.0   \n",
       "2                     60.0                 28.0                     97.0   \n",
       "3                     59.0                 27.0                     94.0   \n",
       "4                     63.0                 27.0                     99.0   \n",
       "\n",
       "   RapidezRafaga(km/h)  \n",
       "0                 46.0  \n",
       "1                 43.0  \n",
       "2                 53.0  \n",
       "3                 51.0  \n",
       "4                 48.0  "
      ]
     },
     "execution_count": 2,
     "metadata": {},
     "output_type": "execute_result"
    }
   ],
   "source": [
    "df= pd.read_csv(\"datos/Estacion_PROGRESO_90_dias_19Nov.csv\")\n",
    "df.head(5)"
   ]
  },
  {
   "cell_type": "markdown",
   "metadata": {},
   "source": [
    "<div class=\"alert alert-info\">\n",
    "\n",
    "<b>EJERCICIO</b>:\n",
    "\n",
    " <ul>\n",
    "  <li> Configurar la columna de 'FechaLocal' como índice temporal  </li>\n",
    "</ul>\n",
    "</div>"
   ]
  },
  {
   "cell_type": "code",
   "execution_count": 3,
   "metadata": {},
   "outputs": [],
   "source": [
    "df['FechaLocal'] = pd.to_datetime(df['FechaLocal'], format= '%d/%m/%Y %H:%M')"
   ]
  },
  {
   "cell_type": "code",
   "execution_count": 4,
   "metadata": {},
   "outputs": [],
   "source": [
    "df = df.set_index('FechaLocal')"
   ]
  },
  {
   "cell_type": "code",
   "execution_count": 5,
   "metadata": {},
   "outputs": [
    {
     "data": {
      "text/html": [
       "<div>\n",
       "<style scoped>\n",
       "    .dataframe tbody tr th:only-of-type {\n",
       "        vertical-align: middle;\n",
       "    }\n",
       "\n",
       "    .dataframe tbody tr th {\n",
       "        vertical-align: top;\n",
       "    }\n",
       "\n",
       "    .dataframe thead th {\n",
       "        text-align: right;\n",
       "    }\n",
       "</style>\n",
       "<table border=\"1\" class=\"dataframe\">\n",
       "  <thead>\n",
       "    <tr style=\"text-align: right;\">\n",
       "      <th></th>\n",
       "      <th>FechaUTC</th>\n",
       "      <th>TemperaturaAire(C)</th>\n",
       "      <th>Precipitacion(mm)</th>\n",
       "      <th>HumedadRelativa(%)</th>\n",
       "      <th>PresionAtmosferica(hpa)</th>\n",
       "      <th>RadiacionSolar(W/m2)</th>\n",
       "      <th>DireccionViento(grados)</th>\n",
       "      <th>RapidezViento(km/h)</th>\n",
       "      <th>DireccionRafaga(grados)</th>\n",
       "      <th>RapidezRafaga(km/h)</th>\n",
       "    </tr>\n",
       "    <tr>\n",
       "      <th>FechaLocal</th>\n",
       "      <th></th>\n",
       "      <th></th>\n",
       "      <th></th>\n",
       "      <th></th>\n",
       "      <th></th>\n",
       "      <th></th>\n",
       "      <th></th>\n",
       "      <th></th>\n",
       "      <th></th>\n",
       "      <th></th>\n",
       "    </tr>\n",
       "  </thead>\n",
       "  <tbody>\n",
       "    <tr>\n",
       "      <th>2020-11-19 15:20:00</th>\n",
       "      <td>19/11/2020 21:20</td>\n",
       "      <td>28</td>\n",
       "      <td>0</td>\n",
       "      <td>72</td>\n",
       "      <td>1017.0</td>\n",
       "      <td>226.0</td>\n",
       "      <td>59.0</td>\n",
       "      <td>28.0</td>\n",
       "      <td>115.0</td>\n",
       "      <td>46.0</td>\n",
       "    </tr>\n",
       "    <tr>\n",
       "      <th>2020-11-19 15:10:00</th>\n",
       "      <td>19/11/2020 21:10</td>\n",
       "      <td>28</td>\n",
       "      <td>0</td>\n",
       "      <td>73</td>\n",
       "      <td>1017.0</td>\n",
       "      <td>445.0</td>\n",
       "      <td>59.0</td>\n",
       "      <td>27.0</td>\n",
       "      <td>103.0</td>\n",
       "      <td>43.0</td>\n",
       "    </tr>\n",
       "    <tr>\n",
       "      <th>2020-11-19 15:00:00</th>\n",
       "      <td>19/11/2020 21:00</td>\n",
       "      <td>28</td>\n",
       "      <td>0</td>\n",
       "      <td>74</td>\n",
       "      <td>1017.0</td>\n",
       "      <td>475.0</td>\n",
       "      <td>60.0</td>\n",
       "      <td>28.0</td>\n",
       "      <td>97.0</td>\n",
       "      <td>53.0</td>\n",
       "    </tr>\n",
       "    <tr>\n",
       "      <th>2020-11-19 14:50:00</th>\n",
       "      <td>19/11/2020 20:50</td>\n",
       "      <td>28</td>\n",
       "      <td>0</td>\n",
       "      <td>75</td>\n",
       "      <td>1017.0</td>\n",
       "      <td>359.0</td>\n",
       "      <td>59.0</td>\n",
       "      <td>27.0</td>\n",
       "      <td>94.0</td>\n",
       "      <td>51.0</td>\n",
       "    </tr>\n",
       "    <tr>\n",
       "      <th>2020-11-19 14:40:00</th>\n",
       "      <td>19/11/2020 20:40</td>\n",
       "      <td>28</td>\n",
       "      <td>0</td>\n",
       "      <td>74</td>\n",
       "      <td>1017.0</td>\n",
       "      <td>550.0</td>\n",
       "      <td>63.0</td>\n",
       "      <td>27.0</td>\n",
       "      <td>99.0</td>\n",
       "      <td>48.0</td>\n",
       "    </tr>\n",
       "  </tbody>\n",
       "</table>\n",
       "</div>"
      ],
      "text/plain": [
       "                             FechaUTC  TemperaturaAire(C)  Precipitacion(mm)  \\\n",
       "FechaLocal                                                                     \n",
       "2020-11-19 15:20:00  19/11/2020 21:20                  28                  0   \n",
       "2020-11-19 15:10:00  19/11/2020 21:10                  28                  0   \n",
       "2020-11-19 15:00:00  19/11/2020 21:00                  28                  0   \n",
       "2020-11-19 14:50:00  19/11/2020 20:50                  28                  0   \n",
       "2020-11-19 14:40:00  19/11/2020 20:40                  28                  0   \n",
       "\n",
       "                     HumedadRelativa(%)  PresionAtmosferica(hpa)  \\\n",
       "FechaLocal                                                         \n",
       "2020-11-19 15:20:00                  72                   1017.0   \n",
       "2020-11-19 15:10:00                  73                   1017.0   \n",
       "2020-11-19 15:00:00                  74                   1017.0   \n",
       "2020-11-19 14:50:00                  75                   1017.0   \n",
       "2020-11-19 14:40:00                  74                   1017.0   \n",
       "\n",
       "                     RadiacionSolar(W/m2)  DireccionViento(grados)  \\\n",
       "FechaLocal                                                           \n",
       "2020-11-19 15:20:00                 226.0                     59.0   \n",
       "2020-11-19 15:10:00                 445.0                     59.0   \n",
       "2020-11-19 15:00:00                 475.0                     60.0   \n",
       "2020-11-19 14:50:00                 359.0                     59.0   \n",
       "2020-11-19 14:40:00                 550.0                     63.0   \n",
       "\n",
       "                     RapidezViento(km/h)  DireccionRafaga(grados)  \\\n",
       "FechaLocal                                                          \n",
       "2020-11-19 15:20:00                 28.0                    115.0   \n",
       "2020-11-19 15:10:00                 27.0                    103.0   \n",
       "2020-11-19 15:00:00                 28.0                     97.0   \n",
       "2020-11-19 14:50:00                 27.0                     94.0   \n",
       "2020-11-19 14:40:00                 27.0                     99.0   \n",
       "\n",
       "                     RapidezRafaga(km/h)  \n",
       "FechaLocal                                \n",
       "2020-11-19 15:20:00                 46.0  \n",
       "2020-11-19 15:10:00                 43.0  \n",
       "2020-11-19 15:00:00                 53.0  \n",
       "2020-11-19 14:50:00                 51.0  \n",
       "2020-11-19 14:40:00                 48.0  "
      ]
     },
     "execution_count": 5,
     "metadata": {},
     "output_type": "execute_result"
    }
   ],
   "source": [
    "df.head()"
   ]
  },
  {
   "cell_type": "markdown",
   "metadata": {},
   "source": [
    "<div class=\"alert alert-success\">\n",
    "    \n",
    "a). Graficar la Precipitación total por día, semana y mes (graficas separadas)\n",
    "    \n",
    "</div> "
   ]
  },
  {
   "cell_type": "code",
   "execution_count": null,
   "metadata": {},
   "outputs": [],
   "source": []
  },
  {
   "cell_type": "markdown",
   "metadata": {},
   "source": [
    "<div class=\"alert alert-success\">\n",
    "    \n",
    "b). En una misma grafica muestre la media, el valor mínimo y el máximo de la temperatura del aire\n",
    "    \n",
    "</div> "
   ]
  },
  {
   "cell_type": "code",
   "execution_count": null,
   "metadata": {},
   "outputs": [],
   "source": []
  },
  {
   "cell_type": "markdown",
   "metadata": {},
   "source": [
    "<div class=\"alert alert-success\">\n",
    "    \n",
    "c). Encontrar el día que en suma recibió mayor radiación solar; con este día haga una grafica con el parámetro de la mediana para cada 30 minutos.\n",
    "    \n",
    "</div> "
   ]
  },
  {
   "cell_type": "code",
   "execution_count": null,
   "metadata": {},
   "outputs": [],
   "source": []
  },
  {
   "cell_type": "markdown",
   "metadata": {},
   "source": [
    "# Ejercicio 2: Incendios en México"
   ]
  },
  {
   "cell_type": "code",
   "execution_count": null,
   "metadata": {},
   "outputs": [],
   "source": [
    "df= pd.read_csv(\"datos/Serie_historica_anual_incendios_2017.csv\")\n",
    "df.head(5)"
   ]
  },
  {
   "cell_type": "markdown",
   "metadata": {},
   "source": [
    "<div class=\"alert alert-info\">\n",
    "\n",
    "<b>EJERCICIO</b>:\n",
    "\n",
    " <ul>\n",
    "  <li> Configurar la columna de 'Fecha Inicio' como índice temporal desde el inicio de su lectura </li>\n",
    "</ul>\n",
    "</div>"
   ]
  },
  {
   "cell_type": "code",
   "execution_count": null,
   "metadata": {},
   "outputs": [],
   "source": [
    "#  'Fecha Inicio' tiene índice 13\n",
    "df = pd.read_csv(\"datos/Serie_historica_anual_incendios_2017.csv\", index_col=13, parse_dates=True)\n",
    "df.head()"
   ]
  },
  {
   "cell_type": "markdown",
   "metadata": {},
   "source": [
    "Para poder realizar la segmentación(slicing) de días, semanas o meses será necesario ordenar los índices por fecha."
   ]
  },
  {
   "cell_type": "code",
   "execution_count": null,
   "metadata": {},
   "outputs": [],
   "source": [
    "df = df.sort_index()\n",
    "df.tail()\n"
   ]
  },
  {
   "cell_type": "markdown",
   "metadata": {},
   "source": [
    "<div class=\"alert alert-success\">\n",
    "    \n",
    "d). Graficar la superficie Total de hectáreas afectadas en todo el país por día\n",
    "    \n",
    "</div> "
   ]
  },
  {
   "cell_type": "code",
   "execution_count": null,
   "metadata": {},
   "outputs": [],
   "source": []
  },
  {
   "cell_type": "markdown",
   "metadata": {},
   "source": [
    "<div class=\"alert alert-success\">\n",
    "    \n",
    "e). Graficar la superficie total de hectáreas afectadas sólo en Yucatán por mes\n",
    "    \n",
    "</div> "
   ]
  },
  {
   "cell_type": "code",
   "execution_count": null,
   "metadata": {},
   "outputs": [],
   "source": []
  },
  {
   "cell_type": "markdown",
   "metadata": {},
   "source": [
    "<div class=\"alert alert-success\">\n",
    "    \n",
    "f). Graficar la superficie total de hectáreas afectadas por semana sólo en Jalisco para los meses abril, mayo, junio y julio \n",
    "    \n",
    "</div> "
   ]
  },
  {
   "cell_type": "code",
   "execution_count": null,
   "metadata": {},
   "outputs": [],
   "source": []
  },
  {
   "cell_type": "markdown",
   "metadata": {},
   "source": [
    "# Ejercicio 3: Pacientes confirmados con Covid en México\n"
   ]
  },
  {
   "cell_type": "markdown",
   "metadata": {},
   "source": [
    "Fuente: https://datos.covid-19.conacyt.mx/#DownZCSV"
   ]
  },
  {
   "cell_type": "markdown",
   "metadata": {},
   "source": [
    "<div class=\"alert alert-info\">\n",
    "\n",
    "<b>EJERCICIO</b>:\n",
    "\n",
    " <ul>\n",
    "  <li> Para el análisis por fechas   </li>\n",
    "</ul>\n",
    "</div>"
   ]
  },
  {
   "cell_type": "markdown",
   "metadata": {},
   "source": [
    "Como veremos a continuacón los datos de fecha se encuentran en las columnas, por lo que será necesario invertir su posición"
   ]
  },
  {
   "cell_type": "code",
   "execution_count": null,
   "metadata": {},
   "outputs": [],
   "source": [
    "df= pd.read_csv(\"datos/Casos_Diarios_Estado_Nacional_Confirmados_20201118.csv\")\n",
    "df.head()"
   ]
  },
  {
   "cell_type": "markdown",
   "metadata": {},
   "source": [
    "Conservaremos solo el nombre de la entidad y las columnas de las fechas"
   ]
  },
  {
   "cell_type": "code",
   "execution_count": null,
   "metadata": {},
   "outputs": [],
   "source": [
    "df=df.loc[:,'nombre':]\n",
    "df.head()"
   ]
  },
  {
   "cell_type": "markdown",
   "metadata": {},
   "source": [
    "Llevamos a cabo la operacion Transpuesta, es decir intercambiar filas por columnas"
   ]
  },
  {
   "cell_type": "code",
   "execution_count": null,
   "metadata": {},
   "outputs": [],
   "source": [
    "df = df.set_index('nombre').T\n",
    "df.head()"
   ]
  },
  {
   "cell_type": "markdown",
   "metadata": {},
   "source": [
    "El resto es ajustar el nombre de nuestra columna que será el indice y configurarla con pd.to_datetime "
   ]
  },
  {
   "cell_type": "code",
   "execution_count": null,
   "metadata": {},
   "outputs": [],
   "source": [
    "df=df.reset_index()\n",
    "df.head()"
   ]
  },
  {
   "cell_type": "code",
   "execution_count": null,
   "metadata": {},
   "outputs": [],
   "source": [
    "df = df.rename(columns = {'index': 'Fecha'})\n",
    "df.head()"
   ]
  },
  {
   "cell_type": "code",
   "execution_count": null,
   "metadata": {},
   "outputs": [],
   "source": [
    "df['Fecha'] = pd.to_datetime(df['Fecha'], format= '%d-%m-%Y')"
   ]
  },
  {
   "cell_type": "code",
   "execution_count": null,
   "metadata": {},
   "outputs": [],
   "source": [
    "df = df.set_index('Fecha')"
   ]
  },
  {
   "cell_type": "code",
   "execution_count": null,
   "metadata": {},
   "outputs": [],
   "source": [
    "df"
   ]
  },
  {
   "cell_type": "markdown",
   "metadata": {},
   "source": [
    "<div class=\"alert alert-success\">\n",
    "    \n",
    "a). Graficar el total de pacientes confirmados nivel Nacional por semana, desde el 15 de enero hasta el 14 de noviembre\n",
    "    \n",
    "</div> "
   ]
  },
  {
   "cell_type": "markdown",
   "metadata": {},
   "source": [
    "<div class=\"alert alert-success\">\n",
    "    \n",
    "b). Graficar el total de pacientes confirmados cada 2 días en Yucatan (en todos los datos)\n",
    "    \n",
    "</div> "
   ]
  },
  {
   "cell_type": "markdown",
   "metadata": {},
   "source": [
    "<div class=\"alert alert-success\">\n",
    "    \n",
    "c). Encontrar la semana con más pacientes confirmados en Yucatán\n",
    "    \n",
    "</div> "
   ]
  },
  {
   "cell_type": "markdown",
   "metadata": {},
   "source": [
    "<div class=\"alert alert-success\">\n",
    "    \n",
    "d). Encontrar la semana con más pacientes confirmados a nivel Nacional\n",
    "    \n",
    "</div>"
   ]
  },
  {
   "cell_type": "code",
   "execution_count": null,
   "metadata": {},
   "outputs": [],
   "source": []
  }
 ],
 "metadata": {
  "kernelspec": {
   "display_name": "Python 3",
   "language": "python",
   "name": "python3"
  },
  "language_info": {
   "codemirror_mode": {
    "name": "ipython",
    "version": 3
   },
   "file_extension": ".py",
   "mimetype": "text/x-python",
   "name": "python",
   "nbconvert_exporter": "python",
   "pygments_lexer": "ipython3",
   "version": "3.9.1"
  }
 },
 "nbformat": 4,
 "nbformat_minor": 4
}
